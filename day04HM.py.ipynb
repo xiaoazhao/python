{
 "cells": [
  {
   "cell_type": "code",
   "execution_count": 17,
   "metadata": {},
   "outputs": [
    {
     "name": "stdout",
     "output_type": "stream",
     "text": [
      "1.05.012.022.035.051.070.092.0117.0145.0\n",
      "176.0210.0247.0287.0330.0376.0425.0477.0532.0590.0\n",
      "651.0715.0782.0852.0925.01001.01080.01162.01247.01335.0\n",
      "1426.01520.01617.01717.01820.01926.02035.02147.02262.02380.0\n",
      "2501.02625.02752.02882.03015.03151.03290.03432.03577.03725.0\n",
      "3876.04030.04187.04347.04510.04676.04845.05017.05192.05370.0\n",
      "5551.05735.05922.06112.06305.06501.06700.06902.07107.07315.0\n",
      "7526.07740.07957.08177.08400.08626.08855.09087.09322.09560.0\n",
      "9801.010045.010292.010542.010795.011051.011310.011572.011837.012105.0\n",
      "12376.012650.012927.013207.013490.013776.014065.014357.014652.014950.0\n"
     ]
    }
   ],
   "source": [
    "#数学方面：五角星 一个五角星被定义为n(3n-1)/2\n",
    "def getPentagalNumber(n):\n",
    "    c = n*(3*n-1)/2\n",
    "    if n%10 !=0:\n",
    "        print(c,end = '')\n",
    "    else:\n",
    "        print(c)\n",
    "for i in range(1,101):\n",
    "    getPentagalNumber(i)"
   ]
  },
  {
   "cell_type": "code",
   "execution_count": 2,
   "metadata": {},
   "outputs": [
    {
     "name": "stdout",
     "output_type": "stream",
     "text": [
      "Enter a n:456\n",
      "相加的和为： 15\n"
     ]
    }
   ],
   "source": [
    "#求一个整数各个数字的和\n",
    "def  sumDigits(n):\n",
    "    n1 = n // 100 #百位上的数\n",
    "    n2 = n % 10 #十位上的数\n",
    "    n3 = (n % 100) //10 #个位上的数\n",
    "    n4 = n1 + n2 + n3\n",
    "    return n4\n",
    "def main():\n",
    "    n = eval(input('Enter a n:'))\n",
    "    print('相加的和为：',sumDigits(n))\n",
    "main()"
   ]
  },
  {
   "cell_type": "code",
   "execution_count": 4,
   "metadata": {
    "scrolled": true
   },
   "outputs": [
    {
     "name": "stdout",
     "output_type": "stream",
     "text": [
      "输入一个数45\n",
      "输入一个数1\n",
      "输入一个数123\n",
      "[1, 45, 123]\n"
     ]
    }
   ],
   "source": [
    "#对三个数排序，编写下面的函数，以升序显示三个数\n",
    "def displayStoteNumber(n1,n2,n3):\n",
    "    res = [n1,n2,n3]\n",
    "    res.sort()\n",
    "    print(res)\n",
    "def nm():\n",
    "    n1 = eval(input('输入一个数'))\n",
    "    n2 = eval(input('输入一个数'))\n",
    "    n3 = eval(input('输入一个数'))\n",
    "    displayStoteNumber(n1,n2,n3)\n",
    "nm()"
   ]
  },
  {
   "cell_type": "code",
   "execution_count": 18,
   "metadata": {},
   "outputs": [],
   "source": [
    "#财务应用程序：计算未来投资值\n",
    "import numpy as np\n",
    "def futureInvestmentValue():\n",
    "    a = eval(input('投资金额：'))\n",
    "    b = eval(input('年利率数额:'))\n",
    "    years = eval(input('请输入年数：'))\n",
    "    c = a*np.power((1+b),years*12)\n",
    "    return c"
   ]
  },
  {
   "cell_type": "code",
   "execution_count": 19,
   "metadata": {},
   "outputs": [
    {
     "name": "stdout",
     "output_type": "stream",
     "text": [
      "投资金额：1000\n",
      "年利率数额:0.0045\n",
      "请输入年数：5\n"
     ]
    },
    {
     "data": {
      "text/plain": [
       "1309.1712669444896"
      ]
     },
     "execution_count": 19,
     "metadata": {},
     "output_type": "execute_result"
    }
   ],
   "source": [
    "futureInvestmentValue()"
   ]
  },
  {
   "cell_type": "code",
   "execution_count": 8,
   "metadata": {},
   "outputs": [
    {
     "name": "stdout",
     "output_type": "stream",
     "text": [
      "A B C D E F G H I J \n",
      "K L M N O P Q R S T \n",
      "U V W X Y Z "
     ]
    }
   ],
   "source": [
    "#打印字符\n",
    "def printChars(ch1,ch2):\n",
    "    count = 0\n",
    "    for i in range(ch1,ch2):\n",
    "        count +=1\n",
    "        print(chr(i),end = \" \")\n",
    "        if count%10 == 0:\n",
    "            print('')\n",
    "def star():\n",
    "    ch1 = 65\n",
    "    ch2 = 91\n",
    "    printChars(ch1,ch2)\n",
    "star()"
   ]
  },
  {
   "cell_type": "code",
   "execution_count": 12,
   "metadata": {},
   "outputs": [
    {
     "name": "stdout",
     "output_type": "stream",
     "text": [
      "Enter x1 and y1 for Point 1:12,12\n",
      "Enter x2 and y2 for Point 2:13,12\n",
      "The distance between the two points is 1.0\n"
     ]
    }
   ],
   "source": [
    "#几何问题：显示角  两点公式\n",
    "def distance(x1,y1,x2,y2):\n",
    "    distance = ((x1 - x2) * (x1 - x2) + (y1 -y2) * (y1 - y2))** 0.5\n",
    "    print('The distance between the two points is',distance)\n",
    "def Start():\n",
    "    x1, y1 = eval(input('Enter x1 and y1 for Point 1:'))\n",
    "    x2, y2 = eval(input('Enter x2 and y2 for Point 2:'))\n",
    "    distance(x1,y1,x2,y2)\n",
    "Start()"
   ]
  },
  {
   "cell_type": "code",
   "execution_count": 38,
   "metadata": {},
   "outputs": [
    {
     "name": "stdout",
     "output_type": "stream",
     "text": [
      "请输入年份：1998\n",
      "请输入月份：2\n",
      "1998年是平年，共有366天！\n"
     ]
    }
   ],
   "source": [
    "#写一个函数，计算给定日期是该年的第几天．\n",
    "def count(year,month):\n",
    "    #判断该年是平年还是闰年\n",
    "    if year%400==0 or (year%4==0 and year%100!=0):\n",
    "        print('%d年是闰年，共有366天！'%year)\n",
    "    else:\n",
    "        print('%d年是平年，共有366天！' % year)\n",
    "if __name__ == \"__main__\":\n",
    "    year = eval(input('请输入年份：'))\n",
    "    month = eval(input('请输入月份：'))\n",
    "    count(year,month)"
   ]
  },
  {
   "cell_type": "code",
   "execution_count": null,
   "metadata": {},
   "outputs": [],
   "source": []
  },
  {
   "cell_type": "markdown",
   "metadata": {},
   "source": [
    "class"
   ]
  },
  {
   "cell_type": "code",
   "execution_count": 4,
   "metadata": {},
   "outputs": [],
   "source": [
    "import math\n",
    "class Circle:\n",
    "    def _init_(self,radius = 1):\n",
    "        self.radius = radius\n",
    "    def getPerimeter(self):\n",
    "        return 2 * self.radius * math.pi\n",
    "    def getArea(self):\n",
    "        return self.radius * self.radius * math.pi\n",
    "    def setRadius(self,radius):\n",
    "        self.radius = radius"
   ]
  },
  {
   "cell_type": "code",
   "execution_count": 5,
   "metadata": {},
   "outputs": [
    {
     "ename": "ModuleNotFoundError",
     "evalue": "No module named 'day04HM'",
     "output_type": "error",
     "traceback": [
      "\u001b[1;31m---------------------------------------------------------------------------\u001b[0m",
      "\u001b[1;31mModuleNotFoundError\u001b[0m                       Traceback (most recent call last)",
      "\u001b[1;32m<ipython-input-5-814972b82ad8>\u001b[0m in \u001b[0;36m<module>\u001b[1;34m()\u001b[0m\n\u001b[1;32m----> 1\u001b[1;33m \u001b[1;32mfrom\u001b[0m \u001b[0mday04HM\u001b[0m\u001b[1;33m.\u001b[0m\u001b[0mpy\u001b[0m \u001b[1;32mimport\u001b[0m \u001b[0mCircle\u001b[0m\u001b[1;33m\u001b[0m\u001b[0m\n\u001b[0m\u001b[0;32m      2\u001b[0m \u001b[1;32mdef\u001b[0m \u001b[0mmain\u001b[0m\u001b[1;33m(\u001b[0m\u001b[1;33m)\u001b[0m\u001b[1;33m:\u001b[0m\u001b[1;33m\u001b[0m\u001b[0m\n\u001b[0;32m      3\u001b[0m     \u001b[0mcircle1\u001b[0m\u001b[1;33m=\u001b[0m\u001b[0mCircle\u001b[0m\u001b[1;33m(\u001b[0m\u001b[1;33m)\u001b[0m\u001b[1;33m\u001b[0m\u001b[0m\n\u001b[0;32m      4\u001b[0m     \u001b[0mprint\u001b[0m\u001b[1;33m(\u001b[0m\u001b[1;34m'The area of the circle of radius'\u001b[0m\u001b[1;33m,\u001b[0m\u001b[0mcircle1\u001b[0m\u001b[1;33m.\u001b[0m\u001b[0mradius\u001b[0m\u001b[1;33m,\u001b[0m\u001b[1;34m'is'\u001b[0m\u001b[1;33m,\u001b[0m\u001b[0mcircle1\u001b[0m\u001b[1;33m.\u001b[0m\u001b[0mgetArea\u001b[0m\u001b[1;33m(\u001b[0m\u001b[1;33m)\u001b[0m\u001b[1;33m)\u001b[0m\u001b[1;33m\u001b[0m\u001b[0m\n\u001b[0;32m      5\u001b[0m     \u001b[0mcircle2\u001b[0m\u001b[1;33m=\u001b[0m\u001b[0mCircle\u001b[0m\u001b[1;33m(\u001b[0m\u001b[1;36m25\u001b[0m\u001b[1;33m)\u001b[0m\u001b[1;33m\u001b[0m\u001b[0m\n",
      "\u001b[1;31mModuleNotFoundError\u001b[0m: No module named 'day04HM'"
     ]
    }
   ],
   "source": [
    "from Circle import Circle\n",
    "def main():\n",
    "    circle1=Circle()\n",
    "    print('The area of the circle of radius',circle1.radius,'is',circle1.getArea())\n",
    "    circle2=Circle(25)\n",
    "    print('The area of the circle of radius',circle2.radius,'is',circle2.getArea())\n",
    "    circle3=Circle(125)\n",
    "    print('The area of the circle of radius',circle3.radius,'is',circle3.getArea())\n",
    "    circle2.radius = 100\n",
    "    print('The area of the circle of radius',circle2.radius,'is',circle2.getArea())\n",
    "main()"
   ]
  },
  {
   "cell_type": "code",
   "execution_count": null,
   "metadata": {},
   "outputs": [],
   "source": []
  },
  {
   "cell_type": "code",
   "execution_count": null,
   "metadata": {},
   "outputs": [],
   "source": []
  }
 ],
 "metadata": {
  "kernelspec": {
   "display_name": "Python 3",
   "language": "python",
   "name": "python3"
  },
  "language_info": {
   "codemirror_mode": {
    "name": "ipython",
    "version": 3
   },
   "file_extension": ".py",
   "mimetype": "text/x-python",
   "name": "python",
   "nbconvert_exporter": "python",
   "pygments_lexer": "ipython3",
   "version": "3.6.4"
  }
 },
 "nbformat": 4,
 "nbformat_minor": 2
}
