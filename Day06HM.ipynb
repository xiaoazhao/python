{
 "cells": [
  {
   "cell_type": "code",
   "execution_count": 1,
   "metadata": {},
   "outputs": [],
   "source": [
    "import requests\n",
    "import re\n",
    "headers = {\n",
    "    'User-Agent': 'Mozilla/5.0 (Windows NT 10.0; Win64; x64) AppleWebKit/537.36 (KHTML, like Gecko) Chrome/76.0.3809.100 Safari/537.36'\n",
    "}\n",
    "url = 'https://www.baidu.com/s?wd=%E7%95%99%E4%B8%8B%E9%82%AE%E7%AE%B1'\n",
    "response = requests.get(url,headers=headers)\n",
    "html = response.text\n",
    "regex = re.compile(\"[a-zA-z]+://[^\\s]*\")\n",
    "res = regex.findall(html)\n",
    "# print(res)\n",
    "new_res = []\n",
    "for i in res:\n",
    "    if '//cache.baiducontent.com/c?m=9' in i:\n",
    "        new_res.append(i)\n",
    "        # print(new_res)\n",
    "\n",
    "\n",
    "\n",
    "# print(res)\n",
    "        # list_1 = []\n",
    "        for j in new_res:\n",
    "            response = requests.get(j,headers=headers)\n",
    "            html_1 = response.text\n",
    "            regex = re.compile(\"[\\w!#$%&'*+/=?^_`{|}~-]+(?:\\.[\\w!#$%&'*+/=?^_`{|}~-]+)*@(?:[\\w](?:[\\w-]*[\\w])?\\.)+[\\w](?:[\\w-]*[\\w])?\")\n",
    "            res_1 = regex.findall(html_1)\n",
    "            # list_1.append(res_1)\n",
    "            list_2 = str(list(set(res_1)))\n",
    "            with open('D:\\\\mixhhh\\\\邮箱\\\\邮箱.txt',mode='a',encoding='utf8') as f:\n",
    "                f.write(list_2)\n",
    "            # print(list_2)\n",
    "            # print(np.array(list(set([tuple(t) for t in list_1]))))\n",
    "\n",
    "# print(html)"
   ]
  },
  {
   "attachments": {},
   "cell_type": "markdown",
   "metadata": {},
   "source": []
  }
 ],
 "metadata": {
  "kernelspec": {
   "display_name": "Python 3",
   "language": "python",
   "name": "python3"
  },
  "language_info": {
   "codemirror_mode": {
    "name": "ipython",
    "version": 3
   },
   "file_extension": ".py",
   "mimetype": "text/x-python",
   "name": "python",
   "nbconvert_exporter": "python",
   "pygments_lexer": "ipython3",
   "version": "3.6.4"
  }
 },
 "nbformat": 4,
 "nbformat_minor": 2
}
