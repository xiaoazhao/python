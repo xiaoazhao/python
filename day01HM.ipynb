{
 "cells": [
  {
   "cell_type": "code",
   "execution_count": 10,
   "metadata": {},
   "outputs": [
    {
     "name": "stdout",
     "output_type": "stream",
     "text": [
      "Enter a degree in Celsius:43\n",
      "43.0 Celsius is 109.4 Fahrenheit\n"
     ]
    }
   ],
   "source": [
    "#读取摄氏温度并将它转变为华氏温度并予以显示的程序\n",
    "a = float(input('Enter a degree in Celsius:'))\n",
    "fahrenheit = (9 / 5) * a + 32\n",
    "print(a,'Celsius is',fahrenheit,'Fahrenheit')"
   ]
  },
  {
   "cell_type": "code",
   "execution_count": 13,
   "metadata": {},
   "outputs": [
    {
     "name": "stdout",
     "output_type": "stream",
     "text": [
      "输入你的半径:5.5\n",
      "输入你的长：12\n",
      "圆的底面积是: 94.985\n",
      "圆的体积是: 1139.82\n"
     ]
    }
   ],
   "source": [
    "#读取圆柱的半径和高并计算出圆柱体底面积和体积\n",
    "radius = eval(input('输入你的半径:'))\n",
    "length = eval(input('输入你的长：'))\n",
    "area = radius * radius * 3.14 \n",
    "volume = area * length\n",
    "print('圆的底面积是:',area)\n",
    "print('圆的体积是:',volume)"
   ]
  },
  {
   "cell_type": "code",
   "execution_count": 15,
   "metadata": {},
   "outputs": [
    {
     "name": "stdout",
     "output_type": "stream",
     "text": [
      "请输入您的英尺数:16.5\n",
      "16.5 feet is 5.0325 meters\n"
     ]
    }
   ],
   "source": [
    "#将英尺数转换为米数\n",
    "feet = eval(input('请输入您的英尺数:'))\n",
    "meters = feet * 0.305 \n",
    "print(feet,'feet is',meters,'meters')"
   ]
  },
  {
   "cell_type": "code",
   "execution_count": 19,
   "metadata": {},
   "outputs": [
    {
     "name": "stdout",
     "output_type": "stream",
     "text": [
      "输入以千克为单位的水量:55.5\n",
      "输入水的初始温度:3.5\n",
      "输入水的最终温度:10.5\n",
      "需要的能量为 1625484.0 焦耳\n"
     ]
    }
   ],
   "source": [
    "#计算将水从初始温度加热到最终温度所需的能量\n",
    "M = eval(input('输入以千克为单位的水量:'))\n",
    "initial = eval(input('输入水的初始温度:'))\n",
    "final = eval(input('输入水的最终温度:'))\n",
    "Q = M * (final - initial) * 4184\n",
    "print('需要的能量为',Q,'焦耳')"
   ]
  },
  {
   "cell_type": "code",
   "execution_count": 20,
   "metadata": {},
   "outputs": [
    {
     "name": "stdout",
     "output_type": "stream",
     "text": [
      "输入差额:1000\n",
      "输入年利率：3.5\n",
      "下个月的利息为 2.916666666666667\n"
     ]
    }
   ],
   "source": [
    "#知道差额和百分比的年利率计算下个月供的利息\n",
    "num1 = eval(input('输入差额:'))\n",
    "num2 = eval(input('输入年利率：'))\n",
    "interest = num1 * (num2 / 1200)\n",
    "print('下个月的利息为',interest)"
   ]
  },
  {
   "cell_type": "code",
   "execution_count": 22,
   "metadata": {},
   "outputs": [
    {
     "name": "stdout",
     "output_type": "stream",
     "text": [
      "输入末速度:50.9\n",
      "输入初始速度:5.5\n",
      "输入以秒为单位速度变化所占用时间:4.5\n",
      "平均加速度为： 10.088888888888889\n"
     ]
    }
   ],
   "source": [
    "#物理方面，求平均加速度\n",
    "v1 = eval(input('输入末速度:'))\n",
    "v0 = eval(input('输入初始速度:'))\n",
    "t = eval(input('输入以秒为单位速度变化所占用时间:'))\n",
    "a = (v1-v0)/t\n",
    "print('平均加速度为：',a)"
   ]
  },
  {
   "cell_type": "code",
   "execution_count": 26,
   "metadata": {},
   "outputs": [
    {
     "name": "stdout",
     "output_type": "stream",
     "text": [
      "输入一个0到1000的数字123\n",
      "每位数字的和为: 6\n"
     ]
    }
   ],
   "source": [
    "#读取一个0到1000之间的整数并计算它各位数字之和\n",
    "a = eval(input('输入一个0到1000的数字'))\n",
    "b = a % 10#各位数 取模 - 返回除法的余数\n",
    "c = a // 10 % 10#十位数 向下整除 取整除 - 返回商的整数部分（向下取整）\n",
    "d = a // 100#个位数\n",
    "f = b + c + d\n",
    "print('每位数字的和为:',f)"
   ]
  },
  {
   "cell_type": "code",
   "execution_count": 1,
   "metadata": {},
   "outputs": [
    {
     "name": "stdout",
     "output_type": "stream",
     "text": [
      "输入你的存款金额：100\n",
      "六个月后的账户余额 102.52822882774383\n"
     ]
    }
   ],
   "source": [
    "#金融应用程序：复利值\n",
    "a = eval(input('输入你的存款金额：'))\n",
    "b1 = a * (1+0.00417)\n",
    "b2 = b1 * (1+0.00417)\n",
    "b3 = b2 * (1+0.00417)\n",
    "b4 = b3 * (1+0.00417)\n",
    "b5 = b4 * (1+0.00417)\n",
    "b6 = b5 * (1+0.00417)\n",
    "print('六个月后的账户余额',b6)"
   ]
  },
  {
   "cell_type": "code",
   "execution_count": 1,
   "metadata": {},
   "outputs": [
    {
     "name": "stdout",
     "output_type": "stream",
     "text": [
      "请输入用户名: 照哥\n",
      "请输入密码: 456789\n",
      "身份验证成功!\n"
     ]
    }
   ],
   "source": [
    "#163邮箱\n",
    "count = 0\n",
    "for i in range(3):\n",
    "    username = input('请输入用户名: ')\n",
    "    password = input('请输入密码: ')\n",
    "    if username == '照哥' and password == '456789':\n",
    "        print('身份验证成功!')\n",
    "        break\n",
    "    else:\n",
    "        print('账号或密码不正确，请重新输入!')\n",
    "        count += 1\n",
    "if count == 3:\n",
    "    print('身份验证失败!去找张仕超办理相关业务')"
   ]
  },
  {
   "cell_type": "code",
   "execution_count": 2,
   "metadata": {},
   "outputs": [
    {
     "name": "stdout",
     "output_type": "stream",
     "text": [
      "31\n",
      "84\n",
      "http://baijiahao.baidu.com/s?id=1641806920856311184\" \n",
      "http://baijiahao.baidu.com/s?id=1641801134242707690\" \n",
      "http://baijiahao.baidu.com/s?id=1641804985134705772\" \n",
      "http://baijiahao.baidu.com/s?id=1641795161667151424\" \n",
      "http://baijiahao.baidu.com/s?id=1641759706552362036\" \n"
     ]
    }
   ],
   "source": [
    "#切片\n",
    "a = '<li class=\"bold-item\"><a href=\"http://baijiahao.baidu.com/s?id=1641806920856311184\" target=\"_blank\" mon=\"a=9\">蔡崇信共23.5亿全资收购篮网</a></li>'\n",
    "b = '<li><a href=\"http://baijiahao.baidu.com/s?id=1641801134242707690\" target=\"_blank\" mon=\"a=9\">美国禁止部分苹果MacBook Pro登机</a></li>'\n",
    "c = '<li><a href=\"http://baijiahao.baidu.com/s?id=1641804985134705772\" target=\"_blank\" mon=\"a=9\">高通董事会任命马克·麦克劳克林为董事长</a></li>'\n",
    "d = '<li><a href=\"http://baijiahao.baidu.com/s?id=1641795161667151424\" target=\"_blank\" mon=\"a=9\">硅谷巨头将参加美政府听证会 反对数字税</a></li>'\n",
    "e = '<li><a href=\"http://baijiahao.baidu.com/s?id=1641759706552362036\" target=\"_blank\" mon=\"a=9\">5G手机“铺货” 用户却仍在观望</a></li>'\n",
    "print(a.find(\"http\"))\n",
    "print(a.find(\"tar\"))\n",
    "print(a[31:84])\n",
    "print(b[13:66])\n",
    "print(c[13:66])\n",
    "print(d[13:66])\n",
    "print(e[13:66])"
   ]
  },
  {
   "cell_type": "code",
   "execution_count": 3,
   "metadata": {},
   "outputs": [
    {
     "name": "stdout",
     "output_type": "stream",
     "text": [
      "4\n",
      "7\n",
      "输入您的答案8\n",
      "对不起，您答错了\n"
     ]
    }
   ],
   "source": [
    "#猜数字\n",
    "import random\n",
    "m = random.randint(0, 9)\n",
    "n = random.randint(0, 9)\n",
    "print(n)\n",
    "print(m)\n",
    "w = int(input(\"输入您的答案\"))\n",
    "\n",
    "if w == n+m:\n",
    "    print(\"恭喜您，答对了\")\n",
    "else:\n",
    "    print(\"对不起，您答错了\")"
   ]
  },
  {
   "cell_type": "code",
   "execution_count": 2,
   "metadata": {},
   "outputs": [
    {
     "name": "stdout",
     "output_type": "stream",
     "text": [
      "请输入1石头2剪刀3布：1\n",
      "请输入1剪刀2石头3布：2\n",
      "结果是平局\n"
     ]
    }
   ],
   "source": [
    "#石头剪刀布\n",
    "a = int(input(\"请输入1石头2剪刀3布：\"))\n",
    "b = int(input(\"请输入1剪刀2石头3布：\"))\n",
    "if a==1:\n",
    "    if b==1:\n",
    "        print(\"恭喜玩家1赢\")\n",
    "    elif b==2:\n",
    "        print(\"结果是平局\")\n",
    "    elif b==3:\n",
    "        print(\"恭喜玩家2赢\")\n",
    "    else:\n",
    "        print(\"请输入正确的\")\n",
    "elif a==2:\n",
    "    if b==1:\n",
    "        print(\"恭喜玩家1赢\")\n",
    "    elif b==2:\n",
    "        print(\"恭喜玩家2赢\")\n",
    "    elif b==3:\n",
    "        print(\"结果是平局\")\n",
    "    else:\n",
    "        print(\"请输入正确的\")\n",
    "elif a==3:\n",
    "    if b==1:\n",
    "        print(\"恭喜玩家2赢\")\n",
    "    elif b==2:\n",
    "        print(\"恭喜玩家1赢\")\n",
    "    elif b==3:\n",
    "        print(\"结果是平局\")\n",
    "    else:\n",
    "        print(\"请输入正确的\")\n",
    "else:\n",
    "    print(\"请输入正确的\")\n"
   ]
  },
  {
   "cell_type": "code",
   "execution_count": null,
   "metadata": {},
   "outputs": [],
   "source": []
  },
  {
   "cell_type": "code",
   "execution_count": null,
   "metadata": {},
   "outputs": [],
   "source": []
  }
 ],
 "metadata": {
  "kernelspec": {
   "display_name": "Python 3",
   "language": "python",
   "name": "python3"
  },
  "language_info": {
   "codemirror_mode": {
    "name": "ipython",
    "version": 3
   },
   "file_extension": ".py",
   "mimetype": "text/x-python",
   "name": "python",
   "nbconvert_exporter": "python",
   "pygments_lexer": "ipython3",
   "version": "3.6.4"
  }
 },
 "nbformat": 4,
 "nbformat_minor": 2
}
