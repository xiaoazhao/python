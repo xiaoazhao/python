{
 "cells": [
  {
   "cell_type": "code",
   "execution_count": 10,
   "metadata": {},
   "outputs": [
    {
     "name": "stdout",
     "output_type": "stream",
     "text": [
      "Enter a degree in Celsius:43\n",
      "43.0 Celsius is 109.4 Fahrenheit\n"
     ]
    }
   ],
   "source": [
    "#读取摄氏温度并将它转变为华氏温度并予以显示的程序\n",
    "a = float(input('Enter a degree in Celsius:'))\n",
    "fahrenheit = (9 / 5) * a + 32\n",
    "print(a,'Celsius is',fahrenheit,'Fahrenheit')"
   ]
  },
  {
   "cell_type": "code",
   "execution_count": 13,
   "metadata": {},
   "outputs": [
    {
     "name": "stdout",
     "output_type": "stream",
     "text": [
      "输入你的半径:5.5\n",
      "输入你的长：12\n",
      "圆的底面积是: 94.985\n",
      "圆的体积是: 1139.82\n"
     ]
    }
   ],
   "source": [
    "#读取圆柱的半径和高并计算出圆柱体底面积和体积\n",
    "radius = eval(input('输入你的半径:'))\n",
    "length = eval(input('输入你的长：'))\n",
    "area = radius * radius * 3.14 \n",
    "volume = area * length\n",
    "print('圆的底面积是:',area)\n",
    "print('圆的体积是:',volume)"
   ]
  },
  {
   "cell_type": "code",
   "execution_count": 15,
   "metadata": {},
   "outputs": [
    {
     "name": "stdout",
     "output_type": "stream",
     "text": [
      "请输入您的英尺数:16.5\n",
      "16.5 feet is 5.0325 meters\n"
     ]
    }
   ],
   "source": [
    "#将英尺数转换为米数\n",
    "feet = eval(input('请输入您的英尺数:'))\n",
    "meters = feet * 0.305 \n",
    "print(feet,'feet is',meters,'meters')"
   ]
  },
  {
   "cell_type": "code",
   "execution_count": 19,
   "metadata": {},
   "outputs": [
    {
     "name": "stdout",
     "output_type": "stream",
     "text": [
      "输入以千克为单位的水量:55.5\n",
      "输入水的初始温度:3.5\n",
      "输入水的最终温度:10.5\n",
      "需要的能量为 1625484.0 焦耳\n"
     ]
    }
   ],
   "source": [
    "#计算将水从初始温度加热到最终温度所需的能量\n",
    "M = eval(input('输入以千克为单位的水量:'))\n",
    "initial = eval(input('输入水的初始温度:'))\n",
    "final = eval(input('输入水的最终温度:'))\n",
    "Q = M * (final - initial) * 4184\n",
    "print('需要的能量为',Q,'焦耳')"
   ]
  },
  {
   "cell_type": "code",
   "execution_count": 20,
   "metadata": {},
   "outputs": [
    {
     "name": "stdout",
     "output_type": "stream",
     "text": [
      "输入差额:1000\n",
      "输入年利率：3.5\n",
      "下个月的利息为 2.916666666666667\n"
     ]
    }
   ],
   "source": [
    "#知道差额和百分比的年利率计算下个月供的利息\n",
    "num1 = eval(input('输入差额:'))\n",
    "num2 = eval(input('输入年利率：'))\n",
    "interest = num1 * (num2 / 1200)\n",
    "print('下个月的利息为',interest)"
   ]
  },
  {
   "cell_type": "code",
   "execution_count": 22,
   "metadata": {},
   "outputs": [
    {
     "name": "stdout",
     "output_type": "stream",
     "text": [
      "输入末速度:50.9\n",
      "输入初始速度:5.5\n",
      "输入以秒为单位速度变化所占用时间:4.5\n",
      "平均加速度为： 10.088888888888889\n"
     ]
    }
   ],
   "source": [
    "#物理方面，求平均加速度\n",
    "v1 = eval(input('输入末速度:'))\n",
    "v0 = eval(input('输入初始速度:'))\n",
    "t = eval(input('输入以秒为单位速度变化所占用时间:'))\n",
    "a = (v1-v0)/t\n",
    "print('平均加速度为：',a)"
   ]
  },
  {
   "cell_type": "code",
   "execution_count": 26,
   "metadata": {},
   "outputs": [
    {
     "name": "stdout",
     "output_type": "stream",
     "text": [
      "输入一个0到1000的数字123\n",
      "每位数字的和为: 6\n"
     ]
    }
   ],
   "source": [
    "#读取一个0到1000之间的整数并计算它各位数字之和\n",
    "a = eval(input('输入一个0到1000的数字'))\n",
    "b = a % 10#各位数 取模 - 返回除法的余数\n",
    "c = a // 10 % 10#十位数 向下整除 取整除 - 返回商的整数部分（向下取整）\n",
    "d = a // 100#个位数\n",
    "f = b + c + d\n",
    "print('每位数字的和为:',f)"
   ]
  },
  {
   "cell_type": "code",
   "execution_count": null,
   "metadata": {},
   "outputs": [],
   "source": [
    "#金融应用程序：复利值\n",
    "a = eval(input('输入你的存款金额：'))\n",
    "b1 = a * (1+0.00417)\n",
    "b2 = b1 * (1+0.00417)\n",
    "b3 = b2 * (1+0.00417)\n",
    "b4 = b3 * (1+0.00417)\n",
    "b5 = b4 * (1+0.00417)\n",
    "b6 = b5 * (1+0.00417)\n",
    "print('六个月后的账户余额',b6)"
   ]
  },
  {
   "cell_type": "markdown",
   "metadata": {},
   "source": []
  }
 ],
 "metadata": {
  "kernelspec": {
   "display_name": "Python 3",
   "language": "python",
   "name": "python3"
  },
  "language_info": {
   "codemirror_mode": {
    "name": "ipython",
    "version": 3
   },
   "file_extension": ".py",
   "mimetype": "text/x-python",
   "name": "python",
   "nbconvert_exporter": "python",
   "pygments_lexer": "ipython3",
   "version": "3.6.4"
  }
 },
 "nbformat": 4,
 "nbformat_minor": 2
}
