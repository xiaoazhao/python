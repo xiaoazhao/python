{
 "cells": [
  {
   "cell_type": "code",
   "execution_count": 6,
   "metadata": {},
   "outputs": [
    {
     "name": "stdout",
     "output_type": "stream",
     "text": [
      "请输入a,b,c的值:1,3,1\n",
      "r1 =  -0.3819660112501051\n",
      "r1 =  -2.618033988749895\n"
     ]
    }
   ],
   "source": [
    "#一元二次方程，根的判别式\n",
    "import math\n",
    "def Pbs(a,b,c):\n",
    "    der = math.pow(b, 2) - 4 * a * c\n",
    "    if der > 0:\n",
    "        print(\"r1 = \",((-b) + math.sqrt(der)) / (2 * a))\n",
    "        print(\"r1 = \",((-b) - math.sqrt(der)) / (2 * a))\n",
    "    elif der == 0:\n",
    "        print(\"r = \",(-b) / (2 * a))\n",
    "    else:\n",
    "        print('这个方程没有实根')\n",
    "def Start():\n",
    "    a,b,c = eval(input(\"请输入a,b,c的值:\"))\n",
    "    Pbs(a,b,c)\n",
    "Start()"
   ]
  },
  {
   "cell_type": "code",
   "execution_count": 12,
   "metadata": {},
   "outputs": [
    {
     "name": "stdout",
     "output_type": "stream",
     "text": [
      "What is 65+45?110\n",
      "恭喜你，答对了！\n"
     ]
    }
   ],
   "source": [
    "#随机产生两个整数，用户加和\n",
    "#加法\n",
    "import random\n",
    "def Zcz(n1,n2):\n",
    "    if n1 < n2:\n",
    "        n1,n2 = n2,n1\n",
    "    answer = eval(input('What is ' + str(n1) + '+' + str(n2) + '?'))    \n",
    "    if n1 + n2 == answer:\n",
    "        print('恭喜你，答对了！')\n",
    "    else:\n",
    "        print('不好意思你回答错了',n1,'-',n2,\"is\",n1 - n2,'.')\n",
    "def Start():\n",
    "    n1=random.randint(0,100)\n",
    "    n2=random.randint(0,100)\n",
    "    Zcz(n1,n2)\n",
    "Start()"
   ]
  },
  {
   "cell_type": "code",
   "execution_count": 10,
   "metadata": {},
   "outputs": [
    {
     "name": "stdout",
     "output_type": "stream",
     "text": [
      "Enter today's day:0\n",
      "Enter the number of days elapsed since today:1\n",
      "Today is Sunday and the future day is 星期一\n"
     ]
    }
   ],
   "source": [
    "#找未来数据  显示星期几\n",
    "def Feture(a,b):\n",
    "    c = a+(a+b)%7\n",
    "    if c == 0:\n",
    "        print('Today is Sunday and the future day is 星期天')\n",
    "    elif c == 1:\n",
    "        print('Today is Sunday and the future day is 星期一')\n",
    "    elif c == 2:\n",
    "        print('Today is Sunday and the future day is 星期二')\n",
    "    elif c == 3:\n",
    "        print('Today is Sunday and the future day is 星期三')\n",
    "    elif c == 4:\n",
    "        print('Today is Sunday and the future day is 星期四')\n",
    "    elif c == 5:\n",
    "        print('Today is Sunday and the future day is 星期五')\n",
    "    elif c == 6:\n",
    "        print('Today is Sunday and the future day is 星期6')\n",
    "    else:\n",
    "        print(c)\n",
    "def Start():\n",
    "    b\n",
    "    ka = eval(input(\"Enter today's day:\"))\n",
    "    b = eval(input(\"Enter the number of days elapsed since today:\"))\n",
    "    Feture(a,b)\n",
    "Start()"
   ]
  },
  {
   "cell_type": "code",
   "execution_count": 15,
   "metadata": {},
   "outputs": [
    {
     "name": "stdout",
     "output_type": "stream",
     "text": [
      "请输入数字a:4\n",
      "请输入数字b:5\n",
      "请输入数字c:6\n",
      "升序后为： 6 5 4\n"
     ]
    }
   ],
   "source": [
    "#编写一个程序提示用户输入三个整数，升序显示\n",
    "def Hw(a,b,c):\n",
    "    if a > b > c:\n",
    "        print('升序后为：',a,b,c)\n",
    "    elif a > c > b:\n",
    "        print('升序后为：',a,c,b)\n",
    "    elif b > a > c:\n",
    "        print('升序后为：',b,a,c)\n",
    "    elif b > c > a:\n",
    "        print('升序后为：',b,c,a)\n",
    "    elif c > a > b:\n",
    "        print('升序后为：',c,a,b)\n",
    "    else:\n",
    "        print('升序后为：',c,b,a)\n",
    "def Start():\n",
    "    a = eval(input('请输入数字a:'))\n",
    "    b = eval(input('请输入数字b:'))\n",
    "    c = eval(input('请输入数字c:'))\n",
    "    Hw(a,b,c)\n",
    "Start()"
   ]
  },
  {
   "cell_type": "code",
   "execution_count": 16,
   "metadata": {},
   "outputs": [
    {
     "name": "stdout",
     "output_type": "stream",
     "text": [
      "输入重量和价钱 for package1:45,56\n",
      "输入重量和价钱 for package2:12,30\n",
      "package 1 更好一点\n"
     ]
    }
   ],
   "source": [
    "#比较价钱\n",
    "def Dx(a,b,c,d):\n",
    "    e = b / a\n",
    "    f = d / c\n",
    "    if e < f:\n",
    "        print('package 1 更好一点')\n",
    "    else:\n",
    "        print('package 2 更好一点')\n",
    "def Start():\n",
    "    a,b = eval(input('输入重量和价钱 for package1:'))\n",
    "    c,d = eval(input('输入重量和价钱 for package2:'))\n",
    "    Dx(a,b,c,d)\n",
    "Start()"
   ]
  },
  {
   "cell_type": "code",
   "execution_count": 20,
   "metadata": {},
   "outputs": [
    {
     "name": "stdout",
     "output_type": "stream",
     "text": [
      "请输入哪一月：12\n",
      "请输入哪一年：1998\n",
      "31 天\n"
     ]
    }
   ],
   "source": [
    "#输入月和年找出一个月中的天数\n",
    "def Hw(a,b):\n",
    "    if a == 2:\n",
    "        if b % 4 == 0:\n",
    "            print('29')\n",
    "        else:\n",
    "            print('28')\n",
    "    else:\n",
    "        print('31','天')\n",
    "def Start():\n",
    "    a = eval(input('请输入哪一月：'))\n",
    "    b = eval(input('请输入哪一年：'))\n",
    "    Hw(a,b)\n",
    "Start()"
   ]
  },
  {
   "cell_type": "code",
   "execution_count": 21,
   "metadata": {},
   "outputs": [
    {
     "name": "stdout",
     "output_type": "stream",
     "text": [
      "0:正面,1:反面: 0\n",
      "You are right!\n"
     ]
    }
   ],
   "source": [
    "#游戏　猜硬币的正反面\n",
    "import random\n",
    "def Bn(a):\n",
    "\n",
    "    number = random.randint(0,1)\n",
    "\n",
    "    if a == number:\n",
    "        print(\"You are right!\")\n",
    "    else:\n",
    "        print(\"You are wrong!\")\n",
    "def Start():\n",
    "    a = eval(input(\"0:正面,1:反面: \"))\n",
    "    Bn(a)\n",
    "Start()"
   ]
  },
  {
   "cell_type": "code",
   "execution_count": 22,
   "metadata": {},
   "outputs": [
    {
     "name": "stdout",
     "output_type": "stream",
     "text": [
      "0:石头,1:剪刀,2:布2\n",
      "电脑赢了\n"
     ]
    }
   ],
   "source": [
    "#剪刀石头布\n",
    "import random\n",
    "def Bn(Zhao):\n",
    "    Com = random.randint(0,2)\n",
    "\n",
    "    if Com == Zhao:\n",
    "        print('平局')\n",
    "    else:\n",
    "        if Com == 0 and Zhao == 1:\n",
    "            print('电脑赢啦')\n",
    "        elif Com == 1 and Zhao == 2:\n",
    "            print('电脑赢了')    \n",
    "        elif Com == 2 and Zhao == 0:\n",
    "            print('电脑赢了')     \n",
    "        else:\n",
    "            print('你赢了')\n",
    "def Start():\n",
    "    Zhao = int(input('0:石头,1:剪刀,2:布'))\n",
    "    Bn(Zhao)\n",
    "Start()"
   ]
  },
  {
   "cell_type": "code",
   "execution_count": 10,
   "metadata": {},
   "outputs": [
    {
     "name": "stdout",
     "output_type": "stream",
     "text": [
      "9 ♦\n"
     ]
    }
   ],
   "source": [
    "#游戏：选出一张牌\n",
    "import random\n",
    "def Bn(Size,Color):\n",
    "    number = random.randint(0,12)\n",
    "    number1 = number % 4\n",
    "    print(Size[number],Color [number1])\n",
    "def Start():\n",
    "    Size = [\"Ace\",2,3,4,5,6,7,8,9,10,\"Jack\",\"Queen\",\"King\"]\n",
    "    Color = [\"♦\",\"♣\",\"♥\",\"♠\"]\n",
    "    Bn(Size,Color)\n",
    "Start()"
   ]
  },
  {
   "cell_type": "code",
   "execution_count": 24,
   "metadata": {},
   "outputs": [
    {
     "name": "stdout",
     "output_type": "stream",
     "text": [
      "输入一个三位整数: 132\n",
      "132 不是回文数\n"
     ]
    }
   ],
   "source": [
    "#回文数\n",
    "def Bn(number):   \n",
    "    hundred = number // 100\n",
    "    Ge = (number % 100) % 10\n",
    "    if hundred == Ge:\n",
    "        print(number,\"是回文数\")\n",
    "    else:\n",
    "        print(number,\"不是回文数\")\n",
    "def Start():\n",
    "    number = int(input(\"输入一个三位整数: \"))\n",
    "    Bn(number)\n",
    "Start()"
   ]
  },
  {
   "cell_type": "code",
   "execution_count": 25,
   "metadata": {},
   "outputs": [
    {
     "name": "stdout",
     "output_type": "stream",
     "text": [
      "输入三条边长: 4,5,6\n",
      "周长是 15\n"
     ]
    }
   ],
   "source": [
    "#计算三角形的周长\n",
    "def Bn(a,b,c):\n",
    "    if a + b > c:\n",
    "        if a + c > b:\n",
    "            if b + c > a:\n",
    "                print(\"周长是\",a + b + c)\n",
    "            else:\n",
    "                print(\"输入的是不合法的哦!\")\n",
    "        else:\n",
    "            print(\"输入的是不合法的哦!\")\n",
    "    else:\n",
    "        print(\"输入的是不合法的哦!\")\n",
    "def Start():\n",
    "    a,b,c = eval(input(\"输入三条边长: \"))\n",
    "    Bn(a,b,c)\n",
    "Start()"
   ]
  },
  {
   "cell_type": "code",
   "execution_count": 2,
   "metadata": {},
   "outputs": [
    {
     "name": "stdout",
     "output_type": "stream",
     "text": [
      "请输入对方的用户名：dfsf\n",
      "您的费用不足，请充值VIP\n",
      "是否充值[y/n]y\n",
      "正在跳转支付宝···\n",
      "请充值金额：1000\n"
     ]
    }
   ],
   "source": [
    "#偷偷寻找遗失的美好，把你的微信好友悄悄加回来\n",
    "money = 0\n",
    "def Check(name):\n",
    "    names = ['czcz','zwx','dxl','bl']\n",
    "    if name in names:\n",
    "        print('该用户已是您的好友')\n",
    "    else:\n",
    "        cz()\n",
    "def cz():\n",
    "    global money\n",
    "    if money >= 100:\n",
    "        print ('已为您悄悄添加好友成功啦')\n",
    "        money -= 100\n",
    "    else:\n",
    "        print ('您的费用不足，请充值VIP')\n",
    "        res = input('是否充值[y/n]')\n",
    "        if res == 'y':\n",
    "            print ('正在跳转支付宝···')\n",
    "            res1 = float(input('请充值金额：'))\n",
    "            money += res1\n",
    "            a = str(money)+'元'\n",
    "            file = '/Users/阿曌/Desktop/zhao.txt'\n",
    "            with open(file,'w',encoding='utf-8') as f:\n",
    "                f.write(a)\n",
    "        else:\n",
    "            print('拜拜吧您')\n",
    "def Start():\n",
    "    name = input('请输入对方的用户名：')\n",
    "    Check(name)\n",
    "Start()"
   ]
  },
  {
   "cell_type": "code",
   "execution_count": null,
   "metadata": {},
   "outputs": [],
   "source": []
  },
  {
   "cell_type": "code",
   "execution_count": 3,
   "metadata": {},
   "outputs": [],
   "source": []
  },
  {
   "cell_type": "code",
   "execution_count": null,
   "metadata": {},
   "outputs": [],
   "source": []
  },
  {
   "cell_type": "code",
   "execution_count": null,
   "metadata": {},
   "outputs": [],
   "source": []
  }
 ],
 "metadata": {
  "kernelspec": {
   "display_name": "Python 3",
   "language": "python",
   "name": "python3"
  },
  "language_info": {
   "codemirror_mode": {
    "name": "ipython",
    "version": 3
   },
   "file_extension": ".py",
   "mimetype": "text/x-python",
   "name": "python",
   "nbconvert_exporter": "python",
   "pygments_lexer": "ipython3",
   "version": "3.6.4"
  }
 },
 "nbformat": 4,
 "nbformat_minor": 2
}
