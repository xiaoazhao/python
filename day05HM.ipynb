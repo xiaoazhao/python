{
 "cells": [
  {
   "cell_type": "code",
   "execution_count": 2,
   "metadata": {},
   "outputs": [
    {
     "name": "stdout",
     "output_type": "stream",
     "text": [
      "Over\n"
     ]
    }
   ],
   "source": [
    "import json\n",
    "import requests\n",
    "import multiprocessing#进程\n",
    "\n",
    "def text(path):\n",
    "    song_play_url_list = []  #创建一个url的空列表\n",
    "    song_name_list = []  #创建一个歌名的空列表\n",
    "    # 获取歌曲URL\n",
    "    with open(path,mode='r') as f:\n",
    "        res = f.readlines()[0].strip('\\n').split('}')\n",
    "        for json_ in res[:-1]:\n",
    "            _json = json_ + '}'\n",
    "            _json = json.loads(_json)\n",
    "            song_play_url = _json['song_play_url']\n",
    "            if song_play_url is not None:\n",
    "                song_play_url_list.append(song_play_url)#追加到url列表\n",
    "                song_name = _json['song_name']  #返回歌名\n",
    "                song_name_list.append(song_name)#追加到歌名列表\n",
    "        return song_play_url_list , song_name_list \n",
    "\n",
    "song_url,song_name = text('D:/mixhhh/top500.txt')\n",
    "#下载歌曲的代码\n",
    "def download(song_url,song_name):\n",
    "    i = -1\n",
    "    for path_ in song_url:\n",
    "        i += 1\n",
    "        response = requests.get(path_)\n",
    "        mp3_ = response.content\n",
    "        with open('D:/mixhhh/mmm/'+song_name[i]+'.mp3',mode='wb') as f:\n",
    "            f.write(mp3_)\n",
    "\n",
    "#download(song_url,song_name)\n",
    "#开两个进程同时下载歌曲\n",
    "if __name__ == \"__main__\":\n",
    "    x = int(len(song_url)/2) \n",
    "    #创建进程\n",
    "    p1 = multiprocessing.Process(target=download,args=(song_url[0:x],song_name[0:x]))\n",
    "    p2 = multiprocessing.Process(target=download,args=(song_url[x:],song_name[x:]))\n",
    "    #启动进程\n",
    "    p1.start()\n",
    "    p2.start()\n",
    "    p1.join()\n",
    "    p2.join()\n",
    "    print(\"Over\")"
   ]
  },
  {
   "cell_type": "code",
   "execution_count": 1,
   "metadata": {},
   "outputs": [
    {
     "name": "stdout",
     "output_type": "stream",
     "text": [
      "https://webfs.yun.kugou.com/201908192103/34f30c50f3dddf902489d8329b5a8256/G072/M03/1B/04/iA0DAFc4Oq2ASH8UACk2YICuxZ0695.mp3\n",
      "https://webfs.yun.kugou.com/201908192101/22972173b448297602e1c0ea9e0b8353/G153/M04/13/14/OYcBAFz3fF6AbF0fADS_2OPt0ag626.mp3\n",
      "https://webfs.yun.kugou.com/201908192100/1e3f3f422e301f4e7d515f5ebc6da22e/G164/M01/1F/09/RIcBAF1FXz6AImQhAC0SISFl4Mw962.mp3\n",
      "https://webfs.yun.kugou.com/201908192101/1964750e4ad0e10960e4df2c38db2706/G117/M07/11/07/tQ0DAFot-mqAYrykADwdPNgvKjM064.mp3\n",
      "https://webfs.yun.kugou.com/201908192057/7840f6d17a48f5bc474dd8fef9273f50/G160/M0B/11/07/gJQEAFzbfVCAAUHHADTJ02KSDuQ335.mp3\n",
      "https://webfs.yun.kugou.com/201908192102/fda821d5a246d74a4308d51c70f01086/G001/M09/03/11/oYYBAFS5Y-yAPuTeAC0cfH6QWWA117.mp3\n",
      "https://webfs.yun.kugou.com/201908192059/a3e92373ac65416626c3602023159923/G167/M07/0A/0B/5w0DAF1T3XmAd5sMAC03rpxJdjA363.mp3\n",
      "https://webfs.yun.kugou.com/201908192059/ca04cf114474128b0fa261f2c2072902/G160/M0B/19/04/gJQEAF0SCTyAUv_lACumRoF_68o614.mp3\n",
      "https://webfs.yun.kugou.com/201908192102/654a257cceb470bf569750e73de7257f/G108/M00/0D/0D/DIcBAFvgHyOAUoSLADv7TtiRGW8736.mp3\n",
      "https://webfs.yun.kugou.com/201908192102/03b0bf19aae6c7b6b0bb5c4960c89bc8/G149/M01/0C/11/1Q0DAFvOLheAQ3ZqACap-NwtRDQ850.mp3\n",
      "https://webfs.yun.kugou.com/201908192100/c7ce110edf22f20a97d7874e282096bc/G126/M00/05/09/HocBAFxLAoeAT3BzAD1nWyW7V5M814.mp3\n",
      "https://webfs.yun.kugou.com/201908192103/7354ed11fac946053d77a1fb1f3e3be0/G151/M07/15/04/d5QEAFz6V_CAR0r7AEHlOc5g6DE932.mp3\n",
      "https://webfs.yun.kugou.com/201908192103/74b648d5e9f808bb51e735a3f04aa91f/G164/M03/0A/18/RIcBAF1VEKGAPzuYAC03rq_tw0U900.mp3\n",
      "https://webfs.yun.kugou.com/201908192105/9481b74d235aca22d40e500a9bd83bb3/G165/M03/1D/15/RYcBAF019wWAPZziABkSrYbqp3c783.mp3\n",
      "https://webfs.yun.kugou.com/201908192105/6f5761285abb75f9cd2226b872b577f0/G162/M09/0C/08/QocBAF0JspOAWKbxADFOskuNU_M567.mp3\n",
      "https://webfs.yun.kugou.com/201908192058/7f1c3a1fa6870003d5b85b0c5a089b53/G156/M08/1B/1D/fJQEAFzjd9-AUHMzADP8LYRTkTQ025.mp3\n",
      "https://webfs.yun.kugou.com/201908192100/c02f61ff8af6996868e3f02928390489/G140/M07/1E/09/LIcBAFuSwg6ALzfsAC36Qz7Kv4M125.mp3\n",
      "https://webfs.yun.kugou.com/201908192058/931fd91ee0c9b4e07d356d9a5f0415ec/G004/M02/00/18/pIYBAFS-zqaAbaRPAE082kzFvcQ789.mp3\n",
      "https://webfs.yun.kugou.com/201908192104/c5558a3bec669600d0142993e853431b/G151/M0A/07/05/N4cBAFz463yAOUlBADyP2BQFLYI454.mp3\n",
      "https://webfs.yun.kugou.com/201908192102/73259cf6520198c05945735736c04142/G151/M03/16/1F/1w0DAF0MU86AWXXMAC6j4l9Fmjc591.mp3\n",
      "https://webfs.yun.kugou.com/201908192102/de04729b66174b783ac821390cb57612/G151/M08/1E/11/N4cBAFyHhvSASDBwACRzPLeaF0g138.mp3\n",
      "https://webfs.yun.kugou.com/201908192103/a824a3a80ac105b037e0f6825353ad96/G156/M00/1C/0B/fJQEAFy_JfCAUjQtACoEl8Wawq4506.mp3\n",
      "https://webfs.yun.kugou.com/201908192101/6ffca41f8e57490b3da8591b36346c3d/G163/M03/13/19/g5QEAFzi0OmAWeHfADtWrUvIKmU694.mp3\n",
      "https://webfs.yun.kugou.com/201908192101/e8e7abbd40715748b5d52c1e156ac6cd/G117/M08/13/1F/tQ0DAFx5A3uAfPOBAC1GYIo2lU0616.mp3\n",
      "https://webfs.yun.kugou.com/201908192104/b6d1db644afe6a4918ff39815d10a5f3/G153/M00/0F/17/OYcBAF0KAoiAC9Z8AESDw95TEjM786.mp3\n",
      "https://webfs.yun.kugou.com/201908192102/ea66bbb8c99a83465b82c4bcf8c2c9c7/G095/M03/0E/01/_4YBAFu4YLSAFC9jAD1lsBaoLWE504.mp3\n",
      "https://webfs.yun.kugou.com/201908192056/fa5be62098b276b32a7ca7382f5631ba/G169/M07/04/1B/iZQEAF1WpWiARykXADsdswnnV-g841.mp3\n",
      "https://webfs.yun.kugou.com/201908192105/f75f4dda97e8956cf363830152c57987/G145/M03/01/05/MYcBAFyIbZSABEz0ADnLwh95lS8000.mp3\n",
      "https://webfs.yun.kugou.com/201908192105/5dc75f9ce15c38bcae0ce93875d17b94/G153/M02/15/01/eZQEAFz3e-iAH0xvADXQ-yefHMM575.mp3\n",
      "https://webfs.yun.kugou.com/201908192104/b5493ba57db936661af6cae7dd0b5537/G153/M04/11/17/2Q0DAF0D61uAHxNTADuPhCASo0k439.mp3\n",
      "https://webfs.yun.kugou.com/201908192104/a8bb839350eed0313082c042eca042e2/G157/M06/18/1B/PYcBAFyR4a2AFqypAC9M4KTY7Ok773.mp3\n",
      "https://webfs.yun.kugou.com/201908192105/ba03b911d1b597034f009d43edea1f95/G165/M0A/13/13/hZQEAF0wGNqAHVXhAEhHjlxd6W4026.mp3\n",
      "https://webfs.yun.kugou.com/201908192105/99e3ffba121c2b4d7ba77a52af5cc7a0/G052/M08/14/18/1IYBAFbwOWSAPvPTADUzw08jo_E666.mp3\n",
      "https://webfs.yun.kugou.com/201908192100/b90f14a9409b75e545c96fae0b50b27c/G121/M04/04/17/WZQEAFwOKz-AL9J_AEWp0xiST_8788.mp3\n",
      "https://webfs.yun.kugou.com/201908192101/f5fb3f93249e965cbba63aa62f8ce1a9/G156/M02/17/07/fJQEAFzFH-uAQ4zvAD1rs8z0Ij8581.mp3\n",
      "https://webfs.yun.kugou.com/201908192105/e94b1b1237623370df9dc91beb4b9e7c/G159/M0A/1D/01/f5QEAF0JUQeAZn4QACPuiqM-l_g902.mp3\n",
      "https://webfs.yun.kugou.com/201908192105/6d2a055926ae62492417f485f7503501/G103/M04/05/04/pw0DAFk2xECAVJf4AEEhNWXu_4w559.mp3\n",
      "https://webfs.yun.kugou.com/201908192104/62e7bfe0888d54c681828aa6c3e9ab5b/G162/M05/12/00/4g0DAFyTXbOAP6VOADUDx96QxWU583.mp3\n",
      "https://webfs.yun.kugou.com/201908192101/ad65a02b9d08ce8c17ccb29f79820702/G143/M02/0E/11/zw0DAFuttuuARrBpAEEO3fnTblQ228.mp3\n",
      "https://webfs.yun.kugou.com/201908192105/582e9622b1ccf6812e577f4350a25a60/G008/M03/08/19/SA0DAFUPNMuAYFTfADyOxbnvacc213.mp3\n",
      "https://webfs.yun.kugou.com/201908192103/601ec80aafb861cae557bd69cae7d0e0/G151/M01/0F/13/1w0DAFznsvWAf7kxACYUvmje7rk125.mp3\n",
      "https://webfs.yun.kugou.com/201908192100/cccb8c5aa01ba40cfb539da4606f56c9/G165/M0B/08/03/hZQEAF1FMT6AEC3jACnCyONGIR4342.mp3\n",
      "https://webfs.yun.kugou.com/201908192105/4ce3892c4ee68c9e60ad366ea43e5298/G168/M02/08/0F/6A0DAF0kT0-AYOqHAEJyyGv8yQ0288.mp3\n",
      "https://webfs.yun.kugou.com/201908192105/a4796a82ac384b9b74f97703b212aa1c/G168/M0A/1E/07/6A0DAF1BRlGARlDCADAZpI5MA3k221.mp3\n",
      "https://webfs.yun.kugou.com/201908192105/bfb0525de9968d1c60b7d3c20a9635ff/G160/M02/07/15/gJQEAFyd9hKAOrZgAD5Nj4OO35o583.mp3\n",
      "https://webfs.yun.kugou.com/201908192101/77add2f1365d103e568ae6d4fd2ed4a8/G161/M0A/09/1F/QYcBAFyQz--Ae3laAEHWnhJxq1c247.mp3\n"
     ]
    }
   ],
   "source": [
    "import json\n",
    "with open('D:\\\\mixhhh\\\\top500.txt',mode='r') as f:\n",
    "    res = f.readlines()[0].strip('\\n').split('}')\n",
    "    for json_ in res[:-1]:\n",
    "        _json = json_ + '}'\n",
    "        _json = json.loads(_json)\n",
    "        song_play_url = _json['song_play_url']\n",
    "        if song_play_url is not None:\n",
    "            print(song_play_url)"
   ]
  },
  {
   "cell_type": "code",
   "execution_count": null,
   "metadata": {},
   "outputs": [],
   "source": [
    "path = 'https://webfs.yun.kugou.com/201908192104/b5493ba57db936661af6cae7dd0b5537/G153/M04/11/17/2Q0DAF0D61uAHxNTADuPhCASo0k439.mp3'\n",
    "import requests\n",
    "response = requests.get(path)\n",
    "mp3_ = response.content\n",
    "with open('D:/mixhhh/mmm/',mode='wb') as f:\n",
    "    f.write(mp3_)"
   ]
  },
  {
   "cell_type": "markdown",
   "metadata": {},
   "source": [
    "1.使用以上代代码下载所有的歌曲!歌曲名最好用已有的.\n",
    "2.想办法把 https://www.17k.com/list/3015690.html 页面中章节详情的内容URL给拿到\n",
    "2.1 做进程划分,爬取章节页面详情存储到本地,一个章节一个html文件.\n",
    "2.2 html = response.text\n",
    "2.3 如果你的请求返回出来的是乱码,设置response.encoding='utf-8'/'gbk'...\n",
    "2.4 你把文章的内容给拿出来存到本地."
   ]
  },
  {
   "cell_type": "code",
   "execution_count": 4,
   "metadata": {},
   "outputs": [
    {
     "ename": "TypeError",
     "evalue": "cannot use a string pattern on a bytes-like object",
     "output_type": "error",
     "traceback": [
      "\u001b[1;31m---------------------------------------------------------------------------\u001b[0m",
      "\u001b[1;31mTypeError\u001b[0m                                 Traceback (most recent call last)",
      "\u001b[1;32m<ipython-input-4-4abb030e638d>\u001b[0m in \u001b[0;36m<module>\u001b[1;34m()\u001b[0m\n\u001b[0;32m     28\u001b[0m             \u001b[0mf\u001b[0m\u001b[1;33m.\u001b[0m\u001b[0mwrite\u001b[0m\u001b[1;33m(\u001b[0m\u001b[0mcontent\u001b[0m\u001b[1;33m)\u001b[0m\u001b[1;33m\u001b[0m\u001b[0m\n\u001b[0;32m     29\u001b[0m \u001b[1;33m\u001b[0m\u001b[0m\n\u001b[1;32m---> 30\u001b[1;33m \u001b[0mgetNovelContent\u001b[0m\u001b[1;33m(\u001b[0m\u001b[1;33m)\u001b[0m\u001b[1;33m\u001b[0m\u001b[0m\n\u001b[0m",
      "\u001b[1;32m<ipython-input-4-4abb030e638d>\u001b[0m in \u001b[0;36mgetNovelContent\u001b[1;34m()\u001b[0m\n\u001b[0;32m     10\u001b[0m     \u001b[0mreg\u001b[0m \u001b[1;33m=\u001b[0m \u001b[1;34mr'<li><a href=\"(.*?)\" title=\".*?\">(.*?)</a></li>'\u001b[0m     \u001b[1;31m#正则表达的匹配\u001b[0m\u001b[1;33m\u001b[0m\u001b[0m\n\u001b[0;32m     11\u001b[0m     \u001b[0mreg\u001b[0m \u001b[1;33m=\u001b[0m \u001b[0mre\u001b[0m\u001b[1;33m.\u001b[0m\u001b[0mcompile\u001b[0m\u001b[1;33m(\u001b[0m\u001b[0mreg\u001b[0m\u001b[1;33m)\u001b[0m     \u001b[1;31m#可添加可不添加，增加效率\u001b[0m\u001b[1;33m\u001b[0m\u001b[0m\n\u001b[1;32m---> 12\u001b[1;33m     \u001b[0murls\u001b[0m \u001b[1;33m=\u001b[0m \u001b[0mre\u001b[0m\u001b[1;33m.\u001b[0m\u001b[0mfindall\u001b[0m\u001b[1;33m(\u001b[0m\u001b[0mreg\u001b[0m\u001b[1;33m,\u001b[0m\u001b[0mhtml\u001b[0m\u001b[1;33m)\u001b[0m\u001b[1;33m\u001b[0m\u001b[0m\n\u001b[0m\u001b[0;32m     13\u001b[0m     \u001b[1;32mfor\u001b[0m \u001b[0murl\u001b[0m \u001b[1;32min\u001b[0m \u001b[0murls\u001b[0m\u001b[1;33m:\u001b[0m\u001b[1;33m\u001b[0m\u001b[0m\n\u001b[0;32m     14\u001b[0m         \u001b[1;31m#print(url)\u001b[0m\u001b[1;33m\u001b[0m\u001b[1;33m\u001b[0m\u001b[0m\n",
      "\u001b[1;32mD:\\Anaconda\\lib\\re.py\u001b[0m in \u001b[0;36mfindall\u001b[1;34m(pattern, string, flags)\u001b[0m\n\u001b[0;32m    220\u001b[0m \u001b[1;33m\u001b[0m\u001b[0m\n\u001b[0;32m    221\u001b[0m     Empty matches are included in the result.\"\"\"\n\u001b[1;32m--> 222\u001b[1;33m     \u001b[1;32mreturn\u001b[0m \u001b[0m_compile\u001b[0m\u001b[1;33m(\u001b[0m\u001b[0mpattern\u001b[0m\u001b[1;33m,\u001b[0m \u001b[0mflags\u001b[0m\u001b[1;33m)\u001b[0m\u001b[1;33m.\u001b[0m\u001b[0mfindall\u001b[0m\u001b[1;33m(\u001b[0m\u001b[0mstring\u001b[0m\u001b[1;33m)\u001b[0m\u001b[1;33m\u001b[0m\u001b[0m\n\u001b[0m\u001b[0;32m    223\u001b[0m \u001b[1;33m\u001b[0m\u001b[0m\n\u001b[0;32m    224\u001b[0m \u001b[1;32mdef\u001b[0m \u001b[0mfinditer\u001b[0m\u001b[1;33m(\u001b[0m\u001b[0mpattern\u001b[0m\u001b[1;33m,\u001b[0m \u001b[0mstring\u001b[0m\u001b[1;33m,\u001b[0m \u001b[0mflags\u001b[0m\u001b[1;33m=\u001b[0m\u001b[1;36m0\u001b[0m\u001b[1;33m)\u001b[0m\u001b[1;33m:\u001b[0m\u001b[1;33m\u001b[0m\u001b[0m\n",
      "\u001b[1;31mTypeError\u001b[0m: cannot use a string pattern on a bytes-like object"
     ]
    }
   ],
   "source": [
    "\n",
    "import re\n",
    "import urllib.request\n",
    " \n",
    "#定义一个爬取网络小说的函数\n",
    "def getNovelContent():\n",
    "    html = urllib.request.urlopen(\"https://www.17k.com/list/3015690.html\").read()\n",
    "  #转成该网址的格式\n",
    "    #<li><a href=\"http://www.quanshuwang.com/book/44/44683/15379609.html\" title=\"引子 穿越的唐家三少，共2744字\">引子 穿越的唐家三少</a></li>  #参考\n",
    "    reg = r'<li><a href=\"(.*?)\" title=\".*?\">(.*?)</a></li>'     #正则表达的匹配\n",
    "    reg = re.compile(reg)     #可添加可不添加，增加效率\n",
    "    urls = re.findall(reg,html)\n",
    "    for url in urls:\n",
    "        #print(url)\n",
    "        chapter_url = url[0]  #章节的超链接\n",
    "        chapter_title = url[1]  #章节的名字\n",
    "        #print(chapter_title)\n",
    "        chapter_html = urllib.request.urlopen(chapter_url).read()   #正文内容源代码\n",
    "       \n",
    "        chapter_reg = r'</script>&nbsp;&nbsp;&nbsp;&nbsp;.*?<br />(.*?)<script type=\"text/javascript\">'\n",
    "        chapter_reg = re.compile(chapter_reg,re.S)\n",
    "        chapter_content = re.findall(chapter_reg,chapter_html)\n",
    "        for content in chapter_content:\n",
    "            content = content.replace(\"&nbsp;&nbsp;&nbsp;&nbsp;\",\"\")\n",
    "            content = content.replace(\"<br />\",\"\")\n",
    "           # print(content)\n",
    "            f = open('{}.txt'.format(chapter_title),'w')\n",
    "            f.write(content)\n",
    "\n",
    "getNovelContent()"
   ]
  },
  {
   "cell_type": "code",
   "execution_count": null,
   "metadata": {},
   "outputs": [],
   "source": []
  }
 ],
 "metadata": {
  "kernelspec": {
   "display_name": "Python 3",
   "language": "python",
   "name": "python3"
  },
  "language_info": {
   "codemirror_mode": {
    "name": "ipython",
    "version": 3
   },
   "file_extension": ".py",
   "mimetype": "text/x-python",
   "name": "python",
   "nbconvert_exporter": "python",
   "pygments_lexer": "ipython3",
   "version": "3.6.4"
  }
 },
 "nbformat": 4,
 "nbformat_minor": 2
}
