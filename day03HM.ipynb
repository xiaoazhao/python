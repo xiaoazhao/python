{
 "cells": [
  {
   "cell_type": "code",
   "execution_count": 10,
   "metadata": {},
   "outputs": [
    {
     "name": "stdout",
     "output_type": "stream",
     "text": [
      "输入整数:-5\n",
      "输入整数:5\n",
      "输入整数:0\n",
      "平均数是: 0.0\n",
      "总和为： 0\n"
     ]
    }
   ],
   "source": [
    "#统计正数和负数的个数然后计算这些数的平均值\n",
    "def Zcz(data):\n",
    "    sum = 0\n",
    "    count = 0\n",
    "    while data != 0:\n",
    "        sum+=data\n",
    "        count+=1\n",
    "        data = eval(input('输入整数:'))\n",
    "        d = sum / count\n",
    "    print('平均数是:',d)\n",
    "    print('总和为：',sum) \n",
    "def Start():\n",
    "    data = eval(input('输入整数:'))\n",
    "    Zcz(data)\n",
    "Start()    "
   ]
  },
  {
   "cell_type": "code",
   "execution_count": 8,
   "metadata": {},
   "outputs": [
    {
     "name": "stdout",
     "output_type": "stream",
     "text": [
      "$ 10500.0\n",
      "$ 11025.0\n",
      "$ 11576.25\n",
      "$ 12155.0625\n",
      "$ 12762.815625000001\n",
      "$ 13400.956406250001\n",
      "$ 14071.004226562502\n",
      "$ 14774.554437890627\n",
      "$ 15513.28215978516\n",
      "$ 16288.946267774418\n",
      "$ 17103.393581163138\n",
      "$ 17958.563260221297\n",
      "$ 18856.491423232364\n",
      "$ 19799.315994393983\n",
      "14年后的学费为：$ 19799.315994393983\n"
     ]
    }
   ],
   "source": [
    "#财务应用程序：计算未来学费\n",
    "def Ha():\n",
    "    year = 0\n",
    "    xuefei = 10000\n",
    "    while year < 14:\n",
    "        year += 1\n",
    "        xuefei = xuefei*1.05\n",
    "        print('$',xuefei)  \n",
    "    print('14年后的学费为：$',xuefei)\n",
    "Ha()"
   ]
  },
  {
   "cell_type": "code",
   "execution_count": 35,
   "metadata": {},
   "outputs": [
    {
     "name": "stdout",
     "output_type": "stream",
     "text": [
      "120 150 180 210 240 270 300 330 360 390 \n",
      "\n",
      "420 450 480 510 540 570 600 630 660 690 \n",
      "\n",
      "720 750 780 810 840 870 900 930 960 990 \n",
      "\n"
     ]
    }
   ],
   "source": [
    "#找出可被5和6同时整除的数\n",
    "def ha():\n",
    "    t = 0\n",
    "    for i in range(100,1000):\n",
    "        if i % 5 == 0 and i % 6 == 0:\n",
    "            print(i,end = ' ')\n",
    "            t += 1\n",
    "            if t % 10 == 0:\n",
    "                print(\"\\n\")\n",
    "ha()"
   ]
  },
  {
   "cell_type": "code",
   "execution_count": 27,
   "metadata": {},
   "outputs": [
    {
     "name": "stdout",
     "output_type": "stream",
     "text": [
      "符合要求的整数有：\n",
      "120 150 180 210 240 270 300 330 360 390 \n",
      "\n",
      "420 450 480 510 540 570 600 630 660 690 \n",
      "\n",
      "720 750 780 810 840 870 900 930 960 990 \n",
      "\n"
     ]
    }
   ],
   "source": [
    "if __name__ == \"__main__\":\n",
    "    t = 0\n",
    "    print(\"符合要求的整数有：\")\n",
    "    for ind in range(100, 1000):\n",
    "        if ind % 5 == 0 and ind % 6 == 0:\n",
    "            print(ind, end=\" \")\n",
    "            t += 1\n",
    "            if t % 10 == 0:#每行输出10个\n",
    "                print(\"\\n\")"
   ]
  },
  {
   "cell_type": "code",
   "execution_count": 48,
   "metadata": {},
   "outputs": [
    {
     "name": "stdout",
     "output_type": "stream",
     "text": [
      "110\n"
     ]
    }
   ],
   "source": [
    "#找出最小的n满足n**2 > 12000\n",
    "def ha():\n",
    "    n = 1\n",
    "    while n * n < 12000:\n",
    "        n = n + 1\n",
    "    print(n)\n",
    "ha()"
   ]
  },
  {
   "cell_type": "code",
   "execution_count": 50,
   "metadata": {},
   "outputs": [
    {
     "name": "stdout",
     "output_type": "stream",
     "text": [
      "110\n"
     ]
    }
   ],
   "source": [
    "#找出最大的n满足n**3 > 12000\n",
    "def ha():\n",
    "    n = 1\n",
    "    while n * n * n  < 12000:\n",
    "        n = n + 1\n",
    "    print(n)\n",
    "ha()"
   ]
  },
  {
   "cell_type": "code",
   "execution_count": 7,
   "metadata": {},
   "outputs": [
    {
     "name": "stdout",
     "output_type": "stream",
     "text": [
      "11.397003949278504\n"
     ]
    }
   ],
   "source": [
    "#演算消除错误 从左到右\n",
    "def ha():\n",
    "    n=1\n",
    "    s=0\n",
    "    while(n<=50000):\n",
    "        s=s+1/n\n",
    "        n=n+1\n",
    "    print(s)\n",
    "ha()"
   ]
  },
  {
   "cell_type": "code",
   "execution_count": 1,
   "metadata": {},
   "outputs": [
    {
     "name": "stdout",
     "output_type": "stream",
     "text": [
      "10.397003949278519\n"
     ]
    }
   ],
   "source": [
    "#演算消除错误 从右到左\n",
    "def ha():\n",
    "    n=50000\n",
    "    s=0\n",
    "    while(n>1):\n",
    "        s=s+1/n\n",
    "        n=n-1\n",
    "    print(s)\n",
    "ha()"
   ]
  },
  {
   "cell_type": "code",
   "execution_count": 13,
   "metadata": {},
   "outputs": [
    {
     "name": "stdout",
     "output_type": "stream",
     "text": [
      "最后的和为： 45.124450303050196\n"
     ]
    }
   ],
   "source": [
    "#数列求和\n",
    "def ha():\n",
    "    sum = 0\n",
    "    for i in range(3, 100, 2):\n",
    "        sum += (i-2)/i\n",
    "    print('最后的和为：',sum)\n",
    "ha()"
   ]
  },
  {
   "cell_type": "code",
   "execution_count": 15,
   "metadata": {},
   "outputs": [
    {
     "name": "stdout",
     "output_type": "stream",
     "text": [
      "10000以内的完全数有： 6\n",
      "10000以内的完全数有： 28\n",
      "10000以内的完全数有： 496\n",
      "10000以内的完全数有： 8128\n"
     ]
    }
   ],
   "source": [
    "#完全数，如果一个正整数等于除了它本身之外所有正因子的和\n",
    "def ha():\n",
    "    for i in range(1, 10000):\n",
    "        sum = 0\n",
    "        for x in range(1, i):\n",
    "            if i % x == 0:\n",
    "                sum = sum + x\n",
    "        if i == sum:\n",
    "            print('10000以内的完全数有：',i)\n",
    "ha()"
   ]
  },
  {
   "cell_type": "code",
   "execution_count": 11,
   "metadata": {},
   "outputs": [
    {
     "name": "stdout",
     "output_type": "stream",
     "text": [
      "所有的组合为： [[1, 2], [1, 3], [1, 4], [1, 5], [1, 6], [1, 7], [2, 3], [2, 4], [2, 5], [2, 6], [2, 7], [3, 4], [3, 5], [3, 6], [3, 7], [4, 5], [4, 6], [4, 7], [5, 6], [5, 7], [6, 7]]\n",
      "组合的总个数是： 21\n"
     ]
    }
   ],
   "source": [
    "#组合问题，显示从1到7的整数中选取两个数的所有可能组合\n",
    "def ha():\n",
    "    a = []\n",
    "    for x in range(1,8):\n",
    "        for y in range(1,8):\n",
    "            if x != y and sorted([x,y]) not in a:\n",
    "                a.append([x,y])\n",
    "    print('所有的组合为：',a)\n",
    "    print('组合的总个数是：',len(a))\n",
    "ha()"
   ]
  },
  {
   "cell_type": "code",
   "execution_count": 3,
   "metadata": {},
   "outputs": [
    {
     "name": "stdout",
     "output_type": "stream",
     "text": [
      "请依次输入10个数字1,5,1,2,4,2,5,6,4,210\n",
      "平均值为：23.900000\n",
      "方差为：3850.490000\n",
      "标准差为:65.408885\n"
     ]
    }
   ],
   "source": [
    "#计算均值和标准方差\n",
    "import numpy as np\n",
    "a,b,c,d,e,f,g,h,n,j = eval(input('请依次输入10个数字'))\n",
    "arr = [a,b,c,d,e,f,g,b,n,j]\n",
    "arr_mean = np.mean(arr)#求平均值\n",
    "\n",
    "arr_var = np.var(arr)#求方差\n",
    "\n",
    "arr_std = np.std(arr,ddof=1)#求标准差\n",
    "print(\"平均值为：%f\" % arr_mean)\n",
    "print(\"方差为：%f\" % arr_var)\n",
    "print(\"标准差为:%f\" % arr_std)"
   ]
  },
  {
   "cell_type": "code",
   "execution_count": 4,
   "metadata": {},
   "outputs": [
    {
     "name": "stdout",
     "output_type": "stream",
     "text": [
      "计算Pi精确到小数点后几位数：4\n",
      "Pi的计算值为：3.1414\n"
     ]
    }
   ],
   "source": [
    "#计算π\n",
    "from math import fabs   #导入数学模块Python 中 fabs(x) 方法返回 x 的绝对值。虽然类似于 abs() 函数，但是两个函数之间存在以下差异：\n",
    "\n",
    "#abs() 是一个内置函数，而 fabs() 在 math 模块中定义的。\n",
    "#fabs() 函数只适用于 float 和 integer 类型，而 abs() 也适用于复数。\n",
    "\n",
    "level = eval(input('计算Pi精确到小数点后几位数：'))\n",
    "a,b,pi,tmp = 1,1,0,1\n",
    "i = 0\n",
    "while (fabs(tmp) >= pow(10,-level)): #计算Pi\n",
    "    pi += tmp\n",
    "    b += 2\n",
    "    a = -a\n",
    "    tmp = a/b\n",
    "    i += 2        \n",
    "print('Pi的计算值为：{}'.format(round(pi*4,level))) #输出计算结果"
   ]
  },
  {
   "cell_type": "code",
   "execution_count": 2,
   "metadata": {},
   "outputs": [
    {
     "name": "stdout",
     "output_type": "stream",
     "text": [
      "请输入用户名: 照哥\n",
      "请输入密码: 456789\n",
      "身份验证成功!\n",
      "9792\n",
      "请输入您的验证码9792\n",
      "登陆成功\n"
     ]
    }
   ],
   "source": [
    "#163邮箱\n",
    "import random\n",
    "count = 0\n",
    "for i in range(4):\n",
    "    username = input('请输入用户名: ')\n",
    "    password = input('请输入密码: ')\n",
    "    if username == '照哥' and password == '456789':\n",
    "        print('身份验证成功!')\n",
    "        a = random.randint(1000,9999)\n",
    "        print(a)\n",
    "        number = eval(input(\"请输入您的验证码\"))\n",
    "        if a == number:\n",
    "            print(\"登陆成功\")\n",
    "            break\n",
    "        else:\n",
    "            print(\"请输入正确的验证码\")\n",
    "    else:\n",
    "        print('账号或密码不正确，请重新输入!')\n",
    "        count += 1\n",
    "if count == 4:\n",
    "    print('身份验证失败!去找张仕超办理相关业务')"
   ]
  },
  {
   "cell_type": "code",
   "execution_count": null,
   "metadata": {},
   "outputs": [
    {
     "name": "stdout",
     "output_type": "stream",
     "text": [
      "pygame 1.9.6\n",
      "Hello from the pygame community. https://www.pygame.org/contribute.html\n",
      "请输入要播放哪首歌曲：1\n",
      "播放音乐1\n"
     ]
    }
   ],
   "source": [
    "import time\n",
    "import pygame\n",
    "list = []\n",
    "file_1 = r'C:\\Users\\阿曌\\Desktop\\mus\\Olly Murs - Wrapped Up.mp3'\n",
    "file_2 = r'C:\\Users\\阿曌\\Desktop\\mus\\许嵩 - 断桥残雪.mp3'\n",
    "file_3 = r'C:\\Users\\阿曌\\Desktop\\mus\\许嵩 - 断桥残雪.mp3'\n",
    "list.append(file_1)\n",
    "list.append(file_2)\n",
    "list.append(file_3)\n",
    "for i in range(3):\n",
    "    a = eval(input('请输入要播放哪首歌曲：'))\n",
    "    if a == 1:\n",
    "        pygame.mixer.init()\n",
    "        print(\"播放音乐1\")\n",
    "        track = pygame.mixer.music.load(file_1)\n",
    "        if 'VIP' in file_1:\n",
    "            print('需要开通VIP才可以欣赏')\n",
    "        else:\n",
    "            pygame.mixer.music.play()\n",
    "            time.sleep(10)\n",
    "            pygame.mixer.music.stop()\n",
    "    elif a == 2:\n",
    "        pygame.mixer.init()\n",
    "        print(\"播放音乐2\")\n",
    "        track = pygame.mixer.music.load(file_2)\n",
    "        pygame.mixer.music.play()\n",
    "        time.sleep(10)\n",
    "        pygame.mixer.music.stop()\n",
    "    elif a == 3:\n",
    "        pygame.mixer.init()\n",
    "        print(\"播放音乐3\")\n",
    "        track = pygame.mixer.music.load(file_3)\n",
    "        pygame.mixer.music.play()\n",
    "        time.sleep(10)\n",
    "        pygame.mixer.music.stop()"
   ]
  },
  {
   "cell_type": "code",
   "execution_count": null,
   "metadata": {},
   "outputs": [],
   "source": []
  }
 ],
 "metadata": {
  "kernelspec": {
   "display_name": "Python 3",
   "language": "python",
   "name": "python3"
  },
  "language_info": {
   "codemirror_mode": {
    "name": "ipython",
    "version": 3
   },
   "file_extension": ".py",
   "mimetype": "text/x-python",
   "name": "python",
   "nbconvert_exporter": "python",
   "pygments_lexer": "ipython3",
   "version": "3.6.4"
  }
 },
 "nbformat": 4,
 "nbformat_minor": 2
}
